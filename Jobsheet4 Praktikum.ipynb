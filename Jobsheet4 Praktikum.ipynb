{
  "cells": [
    {
      "cell_type": "markdown",
      "metadata": {
        "id": "view-in-github",
        "colab_type": "text"
      },
      "source": [
        "<a href=\"https://colab.research.google.com/github/Ziannnniiii/2025_PBO_TI1B/blob/main/Jobsheet4%20Praktikum.ipynb\" target=\"_parent\"><img src=\"https://colab.research.google.com/assets/colab-badge.svg\" alt=\"Open In Colab\"/></a>"
      ]
    },
    {
      "cell_type": "markdown",
      "source": [
        "#Tugas Praktikum"
      ],
      "metadata": {
        "id": "9zRjNqCu31-j"
      }
    },
    {
      "cell_type": "code",
      "source": [
        "class Mahasiswa:\n",
        "    def __init__(self, nama, nim, ipk):\n",
        "        self.nama = nama\n",
        "        self.nim = nim\n",
        "        self.ipk = ipk\n",
        "\n",
        "    def tampilkan_info(self):\n",
        "        print(f\"Nama: {self.nama}\")\n",
        "        print(f\"NIM: {self.nim}\")\n",
        "        print(f\"IPK: {self.ipk}\")\n",
        "\n",
        "    def hitung_predikat(self):\n",
        "        if self.ipk >= 3.5:\n",
        "            print(\"Predikat: Dengan Pujian\")\n",
        "        elif self.ipk >= 3.0:\n",
        "            print(\"Predikat: Sangat Memuaskan\")\n",
        "        elif self.ipk >= 2.5:\n",
        "            print(\"Predikat: Memuaskan\")\n",
        "        else:\n",
        "            print(\"Predikat: Cukup\")\n",
        "\n",
        "\n",
        "class MahasiswaSarjana(Mahasiswa):\n",
        "    def __init__(self, nama, nim, ipk, semester, sks_lulus):\n",
        "        super().__init__(nama, nim, ipk)\n",
        "        self.semester = semester\n",
        "        self.sks_lulus = sks_lulus\n",
        "\n",
        "    def tampilkan_info(self):\n",
        "        super().tampilkan_info()\n",
        "        print(f\"Semester: {self.semester}\")\n",
        "        print(f\"SKS Lulus: {self.sks_lulus}\")\n",
        "\n",
        "\n",
        "class MahasiswaMagister(Mahasiswa):\n",
        "    def __init__(self, nama, nim, ipk, judul_tesis, nama_pembimbing):\n",
        "        super().__init__(nama, nim, ipk)\n",
        "        self.judul_tesis = judul_tesis\n",
        "        self.nama_pembimbing = nama_pembimbing\n",
        "\n",
        "    def tampilkan_info(self):\n",
        "        super().tampilkan_info()\n",
        "        print(f\"Judul Tesis: {self.judul_tesis}\")\n",
        "        print(f\"Pembimbing: {self.nama_pembimbing}\")\n",
        "\n",
        "    def hitung_predikat(self):\n",
        "        if self.ipk >= 3.75:\n",
        "            print(\"Predikat: Lulus dengan Pujian (Magister)\")\n",
        "        elif self.ipk >= 3.25:\n",
        "            print(\"Predikat: Sangat Memuaskan (Magister)\")\n",
        "        else:\n",
        "            print(\"Predikat: Memuaskan (Magister)\")\n",
        "\n",
        "\n",
        "def main():\n",
        "    print(\"=== Mahasiswa Sarjana ===\")\n",
        "    s1 = MahasiswaSarjana(\"Zian\", \"4.33.24.1.21\", 3.95, 6, 110)\n",
        "    s1.tampilkan_info()\n",
        "    s1.hitung_predikat()\n",
        "\n",
        "    print(\"\\n=== Mahasiswa Magister ===\")\n",
        "    m1 = MahasiswaMagister(\"Uzi\", \"4.33.24.1.20\", 3.88, \"Sistem Rekomendasi Berbasis AI\", \"Dr. Siti Aminah\")\n",
        "    m1.tampilkan_info()\n",
        "    m1.hitung_predikat()\n",
        "\n",
        "\n",
        "if __name__ == \"__main__\":\n",
        "    main()"
      ],
      "metadata": {
        "id": "P7CJm0A135rI",
        "outputId": "c6b37a57-b18e-4c9b-b65e-0dc66f8c8a38",
        "colab": {
          "base_uri": "https://localhost:8080/"
        }
      },
      "execution_count": 3,
      "outputs": [
        {
          "output_type": "stream",
          "name": "stdout",
          "text": [
            "=== Mahasiswa Sarjana ===\n",
            "Nama: Zian\n",
            "NIM: 4.33.24.1.21\n",
            "IPK: 3.95\n",
            "Semester: 6\n",
            "SKS Lulus: 110\n",
            "Predikat: Dengan Pujian\n",
            "\n",
            "=== Mahasiswa Magister ===\n",
            "Nama: Uzi\n",
            "NIM: 4.33.24.1.20\n",
            "IPK: 3.88\n",
            "Judul Tesis: Sistem Rekomendasi Berbasis AI\n",
            "Pembimbing: Dr. Siti Aminah\n",
            "Predikat: Lulus dengan Pujian (Magister)\n"
          ]
        }
      ]
    }
  ],
  "metadata": {
    "colab": {
      "name": "Selamat Datang di Colab",
      "provenance": [],
      "include_colab_link": true
    },
    "kernelspec": {
      "display_name": "Python 3",
      "name": "python3"
    }
  },
  "nbformat": 4,
  "nbformat_minor": 0
}