{
  "cells": [
    {
      "cell_type": "markdown",
      "metadata": {
        "id": "view-in-github",
        "colab_type": "text"
      },
      "source": [
        "<a href=\"https://colab.research.google.com/github/Ziannnniiii/2025_PBO_TI1B/blob/main/Selamat_Datang_di_Colab.ipynb\" target=\"_parent\"><img src=\"https://colab.research.google.com/assets/colab-badge.svg\" alt=\"Open In Colab\"/></a>"
      ]
    },
    {
      "cell_type": "markdown",
      "source": [
        "## Jobsheet 4: Memahami Pewarisan (Inheritance) Dalam Python"
      ],
      "metadata": {
        "id": "ZxKqMflSoodc"
      }
    },
    {
      "cell_type": "markdown",
      "source": [
        "# Paktikum 1"
      ],
      "metadata": {
        "id": "4FLzMRO1o9na"
      }
    },
    {
      "cell_type": "code",
      "source": [
        "class Kendaraan:\n",
        "    def __init__(self, merk):\n",
        "        self.merk = merk\n",
        "\n",
        "    def mulai_mesin(self):\n",
        "        print(f\"Mesin Kendaraan {self.merk} dinyalakan.\")\n",
        "\n",
        "class Mobil(Kendaraan):\n",
        "    def __init__(self, merk, warna):\n",
        "        self.merk = merk\n",
        "        self.warna = warna\n",
        "\n",
        "    def info_mobil(self):\n",
        "        print(f\"Ini adalah mobil {self.merk} berwana {self.warna}.\")\n",
        "\n",
        "if __name__ == \"__main__\":\n",
        "    mobil_tesla = Mobil(\"Tesla Model S\", \"Merah\")\n",
        "    mobil_tesla.info_mobil()\n",
        "    mobil_tesla.mulai_mesin()\n",
        "    print(f\"Merk mobil: {mobil_tesla.merk}\")\n",
        ""
      ],
      "metadata": {
        "id": "6LOiMm5jpBZt",
        "outputId": "40ead216-707a-4dcb-a13b-715b90d48f23",
        "colab": {
          "base_uri": "https://localhost:8080/"
        }
      },
      "execution_count": 20,
      "outputs": [
        {
          "output_type": "stream",
          "name": "stdout",
          "text": [
            "Ini adalah mobil Tesla Model S berwana Merah.\n",
            "Mesin Kendaraan Tesla Model S dinyalakan.\n",
            "Merk mobil: Tesla Model S\n"
          ]
        }
      ]
    },
    {
      "cell_type": "markdown",
      "source": [
        "# Praktikum 2\n"
      ],
      "metadata": {
        "id": "i8UlAUDX20Kj"
      }
    },
    {
      "cell_type": "code",
      "source": [
        "class Person:\n",
        "    def __init__(self, nama, usia):\n",
        "        print(f\"(Memanggil __init__ Person untuk '{nama}')\")\n",
        "        self.nama = nama\n",
        "        self.usia = usia\n",
        "\n",
        "    def perkenalkan_diri(self):\n",
        "        print(f\"Halo, nama saya {self.nama}, usia saya {self.usia} tahun.\")\n",
        "\n",
        "class Student(Person):\n",
        "    def __init__(self, nama, usia, student_id, jurusan):\n",
        "        print(f\"(Memanggil __init__ Student untuk '{nama}')\")\n",
        "        super().__init__(nama, usia)\n",
        "        self.student_id = student_id\n",
        "        self.jurusan = jurusan\n",
        "        print(f\"(Inisialisasi atribut Student selesai untuk '{nama}')\")\n",
        "\n",
        "    def info_akademik(self):\n",
        "        print(f\"ID Mahasiswa: {self.student_id}\")\n",
        "        print(f\"Jurusan: {self.jurusan}\")\n",
        "\n",
        "    def perkenalkan_diri(self):\n",
        "        super().perkenalkan_diri()\n",
        "        print(f\"Saya adalah mahasiswa dengan ID {self.student_id}, jurusan {self.jurusan}.\")\n",
        "\n",
        "if __name__ == \"__main__\":\n",
        "    dosen = Person(\"Pak Anton\", 45)\n",
        "    print(\"-\" * 20)\n",
        "    dosen.perkenalkan_diri()\n",
        "    print(\"\\n\" + \"=\" * 30 + \"\\n\")\n",
        "\n",
        "    mahasiswa = Student(\"Dewi\", 20, \"MHS001\", \"Teknik Komputer\")\n",
        "    print(\"-\" * 20)\n",
        "    mahasiswa.perkenalkan_diri()\n",
        "    print(\"-\" * 20)\n",
        "    mahasiswa.info_akademik()\n",
        "    print(f\"\\nUsia mahasiswa {mahasiswa.nama}: {mahasiswa.usia}\")\n"
      ],
      "metadata": {
        "id": "Lt9-nDqt23Mu",
        "outputId": "f38c50c3-c9de-434e-cc42-2b3f32267183",
        "colab": {
          "base_uri": "https://localhost:8080/"
        }
      },
      "execution_count": 35,
      "outputs": [
        {
          "output_type": "stream",
          "name": "stdout",
          "text": [
            "(Memanggil __init__ Person untuk 'Pak Anton')\n",
            "--------------------\n",
            "Halo, nama saya Pak Anton, usia saya 45 tahun.\n",
            "\n",
            "==============================\n",
            "\n",
            "(Memanggil __init__ Student untuk 'Dewi')\n",
            "(Memanggil __init__ Person untuk 'Dewi')\n",
            "(Inisialisasi atribut Student selesai untuk 'Dewi')\n",
            "--------------------\n",
            "Halo, nama saya Dewi, usia saya 20 tahun.\n",
            "Saya adalah mahasiswa dengan ID MHS001, jurusan Teknik Komputer.\n",
            "--------------------\n",
            "ID Mahasiswa: MHS001\n",
            "Jurusan: Teknik Komputer\n",
            "\n",
            "Usia mahasiswa Dewi: 20\n"
          ]
        }
      ]
    },
    {
      "cell_type": "markdown",
      "source": [
        "# Praktikum 3"
      ],
      "metadata": {
        "id": "f6BE7cKIApEU"
      }
    },
    {
      "cell_type": "code",
      "source": [
        "class Hewan:\n",
        "   def __init__(self, nama):\n",
        "       self.nama = nama\n",
        "\n",
        "   def bersuara(self):\n",
        "       print(f\"{self.nama} mengeluarkan suara generik.\")\n",
        "\n",
        "   def tampilkan_info(self):\n",
        "       print(f\"ini adalah hewan bernama {self.nama}.\")\n",
        "\n",
        "class Kucing(Hewan):\n",
        "   def __init__(self, nama, ras):\n",
        "       super().__init__(nama)\n",
        "       self.ras = ras\n",
        "\n",
        "   def bersuara(self):\n",
        "       print(f\"{self.nama} (Kucing) mengeong: meow!\")\n",
        "\n",
        "   def tampilkan_info(self):\n",
        "       super().tampilkan_info()\n",
        "       print(f\"ini adalah kucing ras {self.ras}.\")\n",
        "\n",
        "if __name__ == \"__main__\":\n",
        "    hewan_umum = Hewan(\"makhluk\")\n",
        "    Kucing_persia = Kucing(\"puspus\", \"persia\")\n",
        "\n",
        "    print(\"Info hewan umum:\")\n",
        "    hewan_umum.tampilkan_info()\n",
        "    hewan_umum.bersuara()\n",
        "    print(\"-\" * 20)\n",
        "\n",
        "    print(\"\\nInfo kucing persia:\")\n",
        "    Kucing_persia.tampilkan_info()\n",
        "    kucing_persia.bersuara()\n"
      ],
      "metadata": {
        "id": "xKBap3a8Ar9M",
        "outputId": "d22dcae2-25b0-48c2-cabc-313838721aa4",
        "colab": {
          "base_uri": "https://localhost:8080/"
        }
      },
      "execution_count": 37,
      "outputs": [
        {
          "output_type": "stream",
          "name": "stdout",
          "text": [
            "Info hewan umum:\n",
            "ini adalah hewan bernama makhluk.\n",
            "makhluk mengeluarkan suara generik.\n",
            "--------------------\n",
            "\n",
            "Info kucing persia:\n",
            "ini adalah hewan bernama puspus.\n",
            "ini adalah kucing ras persia.\n",
            "Puspus (Kucing) mengeong: Meow!\n"
          ]
        }
      ]
    },
    {
      "cell_type": "markdown",
      "source": [
        "# Praktikum 4"
      ],
      "metadata": {
        "id": "1alF7UTZDedX"
      }
    },
    {
      "cell_type": "code",
      "source": [
        "class Organisme:\n",
        "    def __init__(self, nama):\n",
        "        self.nama = nama\n",
        "        print(f\"Organisme '{self.nama}' diciptakan.\")\n",
        "\n",
        "    def bernapas(self):\n",
        "        print(f\"{self.nama} sedang bernapas.\")\n",
        "\n",
        "class Hewan(Organisme):\n",
        "    def __init__(self, nama, jenis_makanan):\n",
        "        super().__init__(nama)\n",
        "        self.jenis_makanan = jenis_makanan\n",
        "        print(f\"Hewan '{self.nama}' adalah {self.jenis_makanan}.\")\n",
        "\n",
        "    def bergerak(self):\n",
        "        print(f\"{self.nama} sedang bergerak.\")\n",
        "\n",
        "class Mamalia(Hewan):\n",
        "    def __init__(self, nama, jenis_makanan, jumlah_kaki):\n",
        "        super().__init__(nama, jenis_makanan)\n",
        "        self.jumlah_kaki = jumlah_kaki\n",
        "        print(f\"Mamalia '{self.nama}' memiliki {self.jumlah_kaki} kaki.\")\n",
        "\n",
        "    def menyusui(self):\n",
        "        print(f\"{self.nama} sedang menyusui.\")\n",
        "\n",
        "if __name__ == \"__main__\":\n",
        "    kucing = Mamalia(\"Kucing persia\", \"Karnivora\", 4)\n",
        "    print(\"-\" * 20)\n",
        "    kucing.menyusui()\n",
        "    kucing.bergerak()\n",
        "    print(f\"Jenis makanan: {kucing.jenis_makanan}\")\n",
        "    kucing.bernapas()\n",
        "    print(f\"Nama organisme: {kucing.nama}\")\n"
      ],
      "metadata": {
        "id": "jcZxdZ6_DlEp",
        "outputId": "52e648d5-12a6-478e-f44b-01167d70ad8d",
        "colab": {
          "base_uri": "https://localhost:8080/"
        }
      },
      "execution_count": 42,
      "outputs": [
        {
          "output_type": "stream",
          "name": "stdout",
          "text": [
            "Organisme 'Kucing persia' diciptakan.\n",
            "Hewan 'Kucing persia' adalah Karnivora.\n",
            "Mamalia 'Kucing persia' memiliki 4 kaki.\n",
            "--------------------\n",
            "Kucing persia sedang menyusui.\n",
            "Kucing persia sedang bergerak.\n",
            "Jenis makanan: Karnivora\n",
            "Kucing persia sedang bernapas.\n",
            "Nama organisme: Kucing persia\n"
          ]
        }
      ]
    }
  ],
  "metadata": {
    "colab": {
      "name": "Selamat Datang di Colab",
      "provenance": [],
      "include_colab_link": true
    },
    "kernelspec": {
      "display_name": "Python 3",
      "name": "python3"
    }
  },
  "nbformat": 4,
  "nbformat_minor": 0
}